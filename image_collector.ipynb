{
 "cells": [
  {
   "cell_type": "code",
   "execution_count": 5,
   "metadata": {},
   "outputs": [
    {
     "name": "stdout",
     "output_type": "stream",
     "text": [
      "./image_collect/A_0.jpg\n",
      "Capturing Images for A\n",
      "Image Saved\n",
      "./image_collect/B_0.jpg\n",
      "Capturing Images for B\n",
      "Image Saved\n",
      "./image_collect/C_0.jpg\n",
      "Capturing Images for C\n",
      "Image Saved\n",
      "./image_collect/D_0.jpg\n",
      "Capturing Images for D\n",
      "Image Saved\n",
      "./image_collect/E_0.jpg\n",
      "Capturing Images for E\n",
      "Image Saved\n",
      "./image_collect/F_0.jpg\n",
      "Capturing Images for F\n",
      "Image Saved\n",
      "./image_collect/G_0.jpg\n",
      "Capturing Images for G\n",
      "Image Saved\n",
      "./image_collect/H_0.jpg\n",
      "Capturing Images for H\n",
      "Image Saved\n",
      "./image_collect/I_0.jpg\n",
      "Capturing Images for I\n",
      "Image Saved\n",
      "./image_collect/J_0.jpg\n",
      "Capturing Images for J\n",
      "Image Saved\n",
      "./image_collect/K_0.jpg\n",
      "Capturing Images for K\n"
     ]
    },
    {
     "ename": "KeyboardInterrupt",
     "evalue": "",
     "output_type": "error",
     "traceback": [
      "\u001b[1;31m---------------------------------------------------------------------------\u001b[0m",
      "\u001b[1;31mKeyboardInterrupt\u001b[0m                         Traceback (most recent call last)",
      "Cell \u001b[1;32mIn[5], line 21\u001b[0m\n\u001b[0;32m     19\u001b[0m  ret,frame\u001b[39m=\u001b[39m cap\u001b[39m.\u001b[39mread()\n\u001b[0;32m     20\u001b[0m  \u001b[39m# cv2.imshow('Image for {}'.format(i),frame)\u001b[39;00m\n\u001b[1;32m---> 21\u001b[0m  cv2\u001b[39m.\u001b[39;49mwaitKey(\u001b[39m3000\u001b[39;49m)\n\u001b[0;32m     23\u001b[0m  cv2\u001b[39m.\u001b[39mimwrite(save,frame)\n\u001b[0;32m     24\u001b[0m \u001b[39m# time.sleep(3)\u001b[39;00m\n",
      "\u001b[1;31mKeyboardInterrupt\u001b[0m: "
     ]
    }
   ],
   "source": [
    "import cv2\n",
    "import time\n",
    "import os \n",
    "dir1='images'\n",
    "no_of_images =1\n",
    "cap =cv2.VideoCapture(0) \n",
    "values = ['A','B','C','D','E','F','G','H','I','J','K','L','M','N','O','P','Q','R','S','T','U','V','W','X','Y','Z']\n",
    "for i in values:\n",
    "    # dir2 = i\n",
    "    # path=os.path.join(dir1,dir2)\n",
    "    # os.mkdir(path)\n",
    "\n",
    "    for j in range(no_of_images):\n",
    "      #  save = path+'/{}_{}.jpg'.format(i,j)\n",
    "        save= './image_collect/{}_0.jpg'.format(i)\n",
    "        print(save)\n",
    "        \n",
    "        print(\"Capturing Images for {}\".format(i))\n",
    "        ret,frame= cap.read()\n",
    "        # cv2.imshow('Image for {}'.format(i),frame)\n",
    "        cv2.waitKey(3000)\n",
    "     \n",
    "        cv2.imwrite(save,frame)\n",
    "       # time.sleep(3)\n",
    "        print('Image Saved')\n",
    "        #time.sleep(3)\n",
    "        cv2.destroyAllWindows()\n",
    "cap.release()        \n",
    "\n",
    "# # Access the default camera\n",
    "# cap = cv2.VideoCapture(0)\n",
    "\n",
    "# # Check if camera opened successfully\n",
    "# if not cap.isOpened():\n",
    "#     print(\"Error opening video capture.\")\n",
    "\n",
    "# # Capture frame-by-frame\n",
    "# ret, frame = cap.read()\n",
    "\n",
    "# # Display the captured frame\n",
    "# cv2.imshow('Captured Image', frame)\n",
    "# cv2.waitKey(3000)\n",
    "# # Save the captured image to a file\n",
    "# cv2.imwrite('images/captured_image.jpg', frame)\n",
    "\n",
    "# # Release the capture\n",
    "# cap.release()\n",
    "# cv2.destroyAllWindows()\n"
   ]
  },
  {
   "cell_type": "code",
   "execution_count": 6,
   "metadata": {},
   "outputs": [],
   "source": [
    "import cv2\n",
    "  \n",
    "  \n",
    "# define a video capture object\n",
    "vid = cv2.VideoCapture(0)\n",
    "  \n",
    "while(True):\n",
    "      \n",
    "    # Capture the video frame\n",
    "    # by frame\n",
    "    ret, frame = vid.read()\n",
    "  \n",
    "    # Display the resulting frame\n",
    "    cv2.imshow('frame', frame)\n",
    "      \n",
    "    # the 'q' button is set as the\n",
    "    # quitting button you may use any\n",
    "    # desired button of your choice\n",
    "    if cv2.waitKey(1) & 0xFF == ord('q'):\n",
    "        break\n",
    "  \n",
    "# After the loop release the cap object\n",
    "vid.release()\n",
    "# Destroy all the windows\n",
    "cv2.destroyAllWindows()"
   ]
  },
  {
   "cell_type": "markdown",
   "metadata": {},
   "source": []
  }
 ],
 "metadata": {
  "kernelspec": {
   "display_name": "Python 3",
   "language": "python",
   "name": "python3"
  },
  "language_info": {
   "codemirror_mode": {
    "name": "ipython",
    "version": 3
   },
   "file_extension": ".py",
   "mimetype": "text/x-python",
   "name": "python",
   "nbconvert_exporter": "python",
   "pygments_lexer": "ipython3",
   "version": "3.11.2"
  },
  "orig_nbformat": 4,
  "vscode": {
   "interpreter": {
    "hash": "916dbcbb3f70747c44a77c7bcd40155683ae19c65e1c03b4aa3499c5328201f1"
   }
  }
 },
 "nbformat": 4,
 "nbformat_minor": 2
}
