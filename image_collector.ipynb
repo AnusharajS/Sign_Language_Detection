{
 "cells": [
  {
   "cell_type": "code",
   "execution_count": 2,
   "metadata": {},
   "outputs": [
    {
     "ename": "ModuleNotFoundError",
     "evalue": "No module named 'cv2'",
     "output_type": "error",
     "traceback": [
      "\u001b[1;31m---------------------------------------------------------------------------\u001b[0m",
      "\u001b[1;31mModuleNotFoundError\u001b[0m                       Traceback (most recent call last)",
      "Cell \u001b[1;32mIn[2], line 4\u001b[0m\n\u001b[0;32m      1\u001b[0m \u001b[39m# program to capture single image from webcam in python\u001b[39;00m\n\u001b[0;32m      2\u001b[0m \n\u001b[0;32m      3\u001b[0m \u001b[39m# importing OpenCV library\u001b[39;00m\n\u001b[1;32m----> 4\u001b[0m \u001b[39mimport\u001b[39;00m \u001b[39mcv2\u001b[39;00m\n\u001b[0;32m      6\u001b[0m \u001b[39m# initialize the camera\u001b[39;00m\n\u001b[0;32m      7\u001b[0m \u001b[39m# If you have multiple camera connected with\u001b[39;00m\n\u001b[0;32m      8\u001b[0m \u001b[39m# current device, assign a value in cam_port\u001b[39;00m\n\u001b[0;32m      9\u001b[0m \u001b[39m# variable according to that\u001b[39;00m\n\u001b[0;32m     10\u001b[0m cam_port \u001b[39m=\u001b[39m \u001b[39m0\u001b[39m\n",
      "\u001b[1;31mModuleNotFoundError\u001b[0m: No module named 'cv2'"
     ]
    }
   ],
   "source": [
    "# program to capture single image from webcam in python\n",
    "\n",
    "# importing OpenCV library\n",
    "import cv2\n",
    "\n",
    "# initialize the camera\n",
    "# If you have multiple camera connected with\n",
    "# current device, assign a value in cam_port\n",
    "# variable according to that\n",
    "cam_port = 0\n",
    "cam = VideoCapture(cam_port)\n",
    "\n",
    "# reading the input using the camera\n",
    "result, image = cam.read()\n",
    "\n",
    "# If image will detected without any error,\n",
    "# show result\n",
    "if result:\n",
    "\n",
    "\t# showing result, it take frame name and image\n",
    "\t# output\n",
    "\timshow(\"GeeksForGeeks\", image)\n",
    "\n",
    "\t# saving image in local storage\n",
    "\timwrite(\"GeeksForGeeks.png\", image)\n",
    "\n",
    "\t# If keyboard interrupt occurs, destroy image\n",
    "\t# window\n",
    "\twaitKey(0)\n",
    "\tdestroyWindow(\"GeeksForGeeks\")\n",
    "\n",
    "# If captured image is corrupted, moving to else part\n",
    "else:\n",
    "\tprint(\"No image detected. Please! try again\")\n"
   ]
  },
  {
   "cell_type": "code",
   "execution_count": null,
   "metadata": {},
   "outputs": [],
   "source": []
  }
 ],
 "metadata": {
  "kernelspec": {
   "display_name": "tf",
   "language": "python",
   "name": "python3"
  },
  "language_info": {
   "codemirror_mode": {
    "name": "ipython",
    "version": 3
   },
   "file_extension": ".py",
   "mimetype": "text/x-python",
   "name": "python",
   "nbconvert_exporter": "python",
   "pygments_lexer": "ipython3",
   "version": "3.11.2"
  },
  "orig_nbformat": 4
 },
 "nbformat": 4,
 "nbformat_minor": 2
}
