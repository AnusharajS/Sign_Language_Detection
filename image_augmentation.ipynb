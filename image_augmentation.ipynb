{
 "cells": [
  {
   "cell_type": "code",
   "execution_count": 2,
   "metadata": {},
   "outputs": [],
   "source": [
    "import os\n",
    "import random\n",
    "import tensorflow as tf\n",
    "import keras\n",
    "from skimage import io\n",
    "from keras.preprocessing.image import ImageDataGenerator\n",
    "from shutil import copyfile\n",
    "import numpy as np\n"
   ]
  },
  {
   "cell_type": "code",
   "execution_count": 1,
   "metadata": {},
   "outputs": [
    {
     "ename": "NameError",
     "evalue": "name 'ImageDataGenerator' is not defined",
     "output_type": "error",
     "traceback": [
      "\u001b[1;31m---------------------------------------------------------------------------\u001b[0m",
      "\u001b[1;31mNameError\u001b[0m                                 Traceback (most recent call last)",
      "Cell \u001b[1;32mIn[1], line 1\u001b[0m\n\u001b[1;32m----> 1\u001b[0m datagen\u001b[39m=\u001b[39mImageDataGenerator(rescale\u001b[39m=\u001b[39m\u001b[39m1\u001b[39m\u001b[39m/\u001b[39m\u001b[39m255\u001b[39m,rotation_range\u001b[39m=\u001b[39m\u001b[39m30\u001b[39m,width_shift_range\u001b[39m=\u001b[39m\u001b[39m0.2\u001b[39m,height_shift_range\u001b[39m=\u001b[39m\u001b[39m0.2\u001b[39m,shear_range\u001b[39m=\u001b[39m\u001b[39m0.15\u001b[39m,zoom_range\u001b[39m=\u001b[39m\u001b[39m0.2\u001b[39m,horizontal_flip\u001b[39m=\u001b[39m\u001b[39mTrue\u001b[39;00m,fill_mode\u001b[39m=\u001b[39m\u001b[39m'\u001b[39m\u001b[39mnearest\u001b[39m\u001b[39m'\u001b[39m)\n\u001b[0;32m      2\u001b[0m main\u001b[39m=\u001b[39m\u001b[39m'\u001b[39m\u001b[39m./test/\u001b[39m\u001b[39m'\u001b[39m                  \u001b[39m#mention the folder where original image is stored\u001b[39;00m\n\u001b[0;32m      3\u001b[0m destination\u001b[39m=\u001b[39m\u001b[39m'\u001b[39m\u001b[39m./result\u001b[39m\u001b[39m'\u001b[39m          \u001b[39m#mention the folder where augmented image is stored(creates subfolders by itself) \u001b[39;00m\n",
      "\u001b[1;31mNameError\u001b[0m: name 'ImageDataGenerator' is not defined"
     ]
    }
   ],
   "source": [
    "datagen=ImageDataGenerator(rescale=1/255,rotation_range=30,width_shift_range=0.2,height_shift_range=0.2,shear_range=0.15,zoom_range=0.2,horizontal_flip=True,fill_mode='nearest')\n",
    "main='./test/'                  #mention the folder where original image is stored\n",
    "destination='./result'          #mention the folder where augmented image is stored(creates subfolders by itself) \n",
    "no_of_images = 5                #no of times each image gets augmented\n",
    "flag=1\n",
    "for folder in os.listdir(main):\n",
    "    dest_folder=os.path.join(destination,folder)\n",
    "    os.mkdir(dest_folder)\n",
    "    folder_path= os.path.join(main,folder)\n",
    "    for image in os.listdir(folder_path):\n",
    "        print(f'Augmenting Images for {image}....')\n",
    "        image_path=os.path.join(folder_path,image)\n",
    "        x = io.imread(image_path)\n",
    "        x = x.reshape((1, ) + x.shape)\n",
    "        for batch in datagen.flow(x,save_to_dir=dest_folder,save_prefix='aug', save_format='jpg'):\n",
    "            flag += 1\n",
    "            if flag > no_of_images:\n",
    "                flag=1\n",
    "                break"
   ]
  },
  {
   "cell_type": "markdown",
   "metadata": {},
   "source": []
  }
 ],
 "metadata": {
  "kernelspec": {
   "display_name": "Python 3",
   "language": "python",
   "name": "python3"
  },
  "language_info": {
   "codemirror_mode": {
    "name": "ipython",
    "version": 3
   },
   "file_extension": ".py",
   "mimetype": "text/x-python",
   "name": "python",
   "nbconvert_exporter": "python",
   "pygments_lexer": "ipython3",
   "version": "3.11.2"
  },
  "orig_nbformat": 4,
  "vscode": {
   "interpreter": {
    "hash": "916dbcbb3f70747c44a77c7bcd40155683ae19c65e1c03b4aa3499c5328201f1"
   }
  }
 },
 "nbformat": 4,
 "nbformat_minor": 2
}
