{
 "cells": [
  {
   "cell_type": "code",
   "execution_count": 3,
   "metadata": {},
   "outputs": [],
   "source": [
    "import os\n",
    "import random\n",
    "import tensorflow as tf\n",
    "import keras\n",
    "from skimage import io\n",
    "from keras.preprocessing.image import ImageDataGenerator\n",
    "from shutil import copyfile\n",
    "import numpy as np\n"
   ]
  },
  {
   "cell_type": "code",
   "execution_count": 4,
   "metadata": {},
   "outputs": [
    {
     "name": "stdout",
     "output_type": "stream",
     "text": [
      "Augmenting Images for A_0.jpg....\n",
      "Augmenting Images for A_1.jpg....\n",
      "Augmenting Images for A_10.jpg....\n",
      "Augmenting Images for A_11.jpg....\n",
      "Augmenting Images for A_12.jpg....\n",
      "Augmenting Images for A_13.jpg....\n",
      "Augmenting Images for A_14.jpg....\n",
      "Augmenting Images for A_15.jpg....\n",
      "Augmenting Images for A_16.jpg....\n",
      "Augmenting Images for A_17.jpg....\n",
      "Augmenting Images for A_18.jpg....\n",
      "Augmenting Images for A_19.jpg....\n",
      "Augmenting Images for A_2.jpg....\n",
      "Augmenting Images for A_3.jpg....\n",
      "Augmenting Images for A_4.jpg....\n",
      "Augmenting Images for A_5.jpg....\n",
      "Augmenting Images for A_6.jpg....\n",
      "Augmenting Images for A_7.jpg....\n",
      "Augmenting Images for A_8.jpg....\n",
      "Augmenting Images for A_9.jpg....\n",
      "Augmenting Images for B_0.jpg....\n",
      "Augmenting Images for B_1.jpg....\n"
     ]
    },
    {
     "ename": "KeyboardInterrupt",
     "evalue": "",
     "output_type": "error",
     "traceback": [
      "\u001b[1;31m---------------------------------------------------------------------------\u001b[0m",
      "\u001b[1;31mKeyboardInterrupt\u001b[0m                         Traceback (most recent call last)",
      "Cell \u001b[1;32mIn[4], line 15\u001b[0m\n\u001b[0;32m     13\u001b[0m x \u001b[39m=\u001b[39m io\u001b[39m.\u001b[39mimread(image_path)\n\u001b[0;32m     14\u001b[0m x \u001b[39m=\u001b[39m x\u001b[39m.\u001b[39mreshape((\u001b[39m1\u001b[39m, ) \u001b[39m+\u001b[39m x\u001b[39m.\u001b[39mshape)\n\u001b[1;32m---> 15\u001b[0m \u001b[39mfor\u001b[39;00m batch \u001b[39min\u001b[39;00m datagen\u001b[39m.\u001b[39mflow(x,save_to_dir\u001b[39m=\u001b[39mdest_folder,save_prefix\u001b[39m=\u001b[39m\u001b[39m'\u001b[39m\u001b[39maug\u001b[39m\u001b[39m'\u001b[39m, save_format\u001b[39m=\u001b[39m\u001b[39m'\u001b[39m\u001b[39mjpg\u001b[39m\u001b[39m'\u001b[39m):\n\u001b[0;32m     16\u001b[0m     flag \u001b[39m+\u001b[39m\u001b[39m=\u001b[39m \u001b[39m1\u001b[39m\n\u001b[0;32m     17\u001b[0m     \u001b[39mif\u001b[39;00m flag \u001b[39m>\u001b[39m no_of_images:\n",
      "File \u001b[1;32m~\\AppData\\Local\\Packages\\PythonSoftwareFoundation.Python.3.11_qbz5n2kfra8p0\\LocalCache\\local-packages\\Python311\\site-packages\\keras\\preprocessing\\image.py:156\u001b[0m, in \u001b[0;36mIterator.__next__\u001b[1;34m(self, *args, **kwargs)\u001b[0m\n\u001b[0;32m    155\u001b[0m \u001b[39mdef\u001b[39;00m \u001b[39m__next__\u001b[39m(\u001b[39mself\u001b[39m, \u001b[39m*\u001b[39margs, \u001b[39m*\u001b[39m\u001b[39m*\u001b[39mkwargs):\n\u001b[1;32m--> 156\u001b[0m     \u001b[39mreturn\u001b[39;00m \u001b[39mself\u001b[39;49m\u001b[39m.\u001b[39;49mnext(\u001b[39m*\u001b[39;49margs, \u001b[39m*\u001b[39;49m\u001b[39m*\u001b[39;49mkwargs)\n",
      "File \u001b[1;32m~\\AppData\\Local\\Packages\\PythonSoftwareFoundation.Python.3.11_qbz5n2kfra8p0\\LocalCache\\local-packages\\Python311\\site-packages\\keras\\preprocessing\\image.py:168\u001b[0m, in \u001b[0;36mIterator.next\u001b[1;34m(self)\u001b[0m\n\u001b[0;32m    165\u001b[0m     index_array \u001b[39m=\u001b[39m \u001b[39mnext\u001b[39m(\u001b[39mself\u001b[39m\u001b[39m.\u001b[39mindex_generator)\n\u001b[0;32m    166\u001b[0m \u001b[39m# The transformation of images is not under thread lock\u001b[39;00m\n\u001b[0;32m    167\u001b[0m \u001b[39m# so it can be done in parallel\u001b[39;00m\n\u001b[1;32m--> 168\u001b[0m \u001b[39mreturn\u001b[39;00m \u001b[39mself\u001b[39;49m\u001b[39m.\u001b[39;49m_get_batches_of_transformed_samples(index_array)\n",
      "File \u001b[1;32m~\\AppData\\Local\\Packages\\PythonSoftwareFoundation.Python.3.11_qbz5n2kfra8p0\\LocalCache\\local-packages\\Python311\\site-packages\\keras\\preprocessing\\image.py:802\u001b[0m, in \u001b[0;36mNumpyArrayIterator._get_batches_of_transformed_samples\u001b[1;34m(self, index_array)\u001b[0m\n\u001b[0;32m    799\u001b[0m x \u001b[39m=\u001b[39m \u001b[39mself\u001b[39m\u001b[39m.\u001b[39mx[j]\n\u001b[0;32m    800\u001b[0m params \u001b[39m=\u001b[39m \u001b[39mself\u001b[39m\u001b[39m.\u001b[39mimage_data_generator\u001b[39m.\u001b[39mget_random_transform(x\u001b[39m.\u001b[39mshape)\n\u001b[0;32m    801\u001b[0m x \u001b[39m=\u001b[39m \u001b[39mself\u001b[39m\u001b[39m.\u001b[39mimage_data_generator\u001b[39m.\u001b[39mapply_transform(\n\u001b[1;32m--> 802\u001b[0m     x\u001b[39m.\u001b[39mastype(\u001b[39mself\u001b[39m\u001b[39m.\u001b[39mdtype), params\n\u001b[0;32m    803\u001b[0m )\n\u001b[0;32m    804\u001b[0m x \u001b[39m=\u001b[39m \u001b[39mself\u001b[39m\u001b[39m.\u001b[39mimage_data_generator\u001b[39m.\u001b[39mstandardize(x)\n\u001b[0;32m    805\u001b[0m batch_x[i] \u001b[39m=\u001b[39m x\n",
      "\u001b[1;31mKeyboardInterrupt\u001b[0m: "
     ]
    }
   ],
   "source": [
    "datagen=ImageDataGenerator(rescale=1/255,rotation_range=30,width_shift_range=0.2,height_shift_range=0.2,shear_range=0.15,zoom_range=0.2,horizontal_flip=True,fill_mode='nearest')\n",
    "main='./test/'                  #mention the folder where original image is stored\n",
    "destination='./result'          #mention the folder where augmented image is stored(creates subfolders by itself) \n",
    "no_of_images = 5                #no of times each image gets augmented\n",
    "flag=1\n",
    "for folder in os.listdir(main):\n",
    "    dest_folder=os.path.join(destination,folder)\n",
    "    os.mkdir(dest_folder)\n",
    "    folder_path= os.path.join(main,folder)\n",
    "    for image in os.listdir(folder_path):\n",
    "        print(f'Augmenting Images for {image}....')\n",
    "        image_path=os.path.join(folder_path,image)\n",
    "        x = io.imread(image_path)\n",
    "        x = x.reshape((1, ) + x.shape)\n",
    "        for batch in datagen.flow(x,save_to_dir=dest_folder,save_prefix='aug', save_format='jpg'):\n",
    "            flag += 1\n",
    "            if flag > no_of_images:\n",
    "                flag=1\n",
    "                break"
   ]
  },
  {
   "cell_type": "markdown",
   "metadata": {},
   "source": []
  }
 ],
 "metadata": {
  "kernelspec": {
   "display_name": "Python 3",
   "language": "python",
   "name": "python3"
  },
  "language_info": {
   "codemirror_mode": {
    "name": "ipython",
    "version": 3
   },
   "file_extension": ".py",
   "mimetype": "text/x-python",
   "name": "python",
   "nbconvert_exporter": "python",
   "pygments_lexer": "ipython3",
   "version": "3.11.2"
  },
  "orig_nbformat": 4,
  "vscode": {
   "interpreter": {
    "hash": "916dbcbb3f70747c44a77c7bcd40155683ae19c65e1c03b4aa3499c5328201f1"
   }
  }
 },
 "nbformat": 4,
 "nbformat_minor": 2
}
