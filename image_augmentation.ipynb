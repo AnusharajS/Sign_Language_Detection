{
 "cells": [
  {
   "cell_type": "code",
   "execution_count": 1,
   "metadata": {},
   "outputs": [],
   "source": [
    "import os\n",
    "import random\n",
    "import tensorflow as tf\n",
    "from tensorflow import keras\n",
    "from skimage import io\n",
    "from keras.preprocessing.image import ImageDataGenerator\n",
    "from shutil import copyfile\n",
    "import numpy as np\n",
    "from tensorflow.python.client import device_lib\n",
    "from keras import backend as K\n"
   ]
  },
  {
   "cell_type": "code",
   "execution_count": 2,
   "metadata": {},
   "outputs": [],
   "source": [
    "gpus = tf.config.experimental.list_physical_devices('GPU')\n",
    "if gpus:\n",
    "    try:\n",
    "        for gpu in gpus:\n",
    "            tf.config.experimental.set_memory_growth(gpu, True)\n",
    "    except RuntimeError as e:\n",
    "        print(e)\n",
    "\n",
    "os.environ['CUDA_VISIBLE_DEVICES'] = '0'"
   ]
  },
  {
   "cell_type": "code",
   "execution_count": 3,
   "metadata": {},
   "outputs": [
    {
     "name": "stdout",
     "output_type": "stream",
     "text": [
      "Default GPU Device:/device:GPU:0\n"
     ]
    }
   ],
   "source": [
    "if tf.test.gpu_device_name(): \n",
    "\n",
    "    print('Default GPU Device:{}'.format(tf.test.gpu_device_name()))\n",
    "\n",
    "else:\n",
    "\n",
    "   print(\"Please install GPU version of TF\")"
   ]
  },
  {
   "cell_type": "code",
   "execution_count": 5,
   "metadata": {},
   "outputs": [
    {
     "name": "stdout",
     "output_type": "stream",
     "text": [
      "Augmenting Images for F_0.jpg....\n",
      "Augmenting Images for F_1.jpg....\n",
      "Augmenting Images for F_2.jpg....\n",
      "Augmenting Images for F_3.jpg....\n",
      "Augmenting Images for F_4.jpg....\n",
      "Augmenting Images for F_5.jpg....\n",
      "Augmenting Images for F_6.jpg....\n",
      "Augmenting Images for F_7.jpg....\n",
      "Augmenting Images for F_8.jpg....\n",
      "Augmenting Images for F_9.jpg....\n"
     ]
    }
   ],
   "source": [
    "datagen=ImageDataGenerator(rescale=1/255,rotation_range=30,width_shift_range=0.2,height_shift_range=0.2,shear_range=0.15,zoom_range=0.2,horizontal_flip=True,fill_mode='nearest')\n",
    "main='./test/'                  #mention the folder where original image is stored\n",
    "destination='./result'          #mention the folder where augmented image is stored(creates subfolders by itself) \n",
    "no_of_images = 20                #no of times each image gets augmented\n",
    "flag=1\n",
    "for folder in os.listdir(main):\n",
    "    dest_folder=os.path.join(destination,folder)\n",
    "    os.mkdir(dest_folder)\n",
    "    folder_path= os.path.join(main,folder)\n",
    "    for image in os.listdir(folder_path):\n",
    "        print(f'Augmenting Images for {image}....')\n",
    "        image_path=os.path.join(folder_path,image)\n",
    "        x = io.imread(image_path)\n",
    "        x = x.reshape((1, ) + x.shape)\n",
    "        for batch in datagen.flow(x,save_to_dir=dest_folder,save_prefix='aug', save_format='jpg'):\n",
    "            flag += 1\n",
    "            if flag > no_of_images:\n",
    "                flag=1\n",
    "                break"
   ]
  },
  {
   "cell_type": "markdown",
   "metadata": {},
   "source": []
  }
 ],
 "metadata": {
  "kernelspec": {
   "display_name": "Python 3",
   "language": "python",
   "name": "python3"
  },
  "language_info": {
   "codemirror_mode": {
    "name": "ipython",
    "version": 3
   },
   "file_extension": ".py",
   "mimetype": "text/x-python",
   "name": "python",
   "nbconvert_exporter": "python",
   "pygments_lexer": "ipython3",
   "version": "3.9.16"
  },
  "orig_nbformat": 4,
  "vscode": {
   "interpreter": {
    "hash": "916dbcbb3f70747c44a77c7bcd40155683ae19c65e1c03b4aa3499c5328201f1"
   }
  }
 },
 "nbformat": 4,
 "nbformat_minor": 2
}
