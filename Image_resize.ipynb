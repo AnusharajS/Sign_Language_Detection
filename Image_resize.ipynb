{
 "cells": [
  {
   "cell_type": "code",
   "execution_count": 23,
   "id": "48dc7e3d",
   "metadata": {},
   "outputs": [],
   "source": [
    "import cv2\n",
    "import os"
   ]
  },
  {
   "cell_type": "markdown",
   "id": "d6c19397",
   "metadata": {},
   "source": [
    "Creating Directories"
   ]
  },
  {
   "cell_type": "code",
   "execution_count": 35,
   "id": "336233dd",
   "metadata": {},
   "outputs": [],
   "source": [
    "values = ['A','B','C','D','E','F','G','H','I','J','K','L','M','N','O','P','Q','R','S','T','U','V','W','X','Y','Z']"
   ]
  },
  {
   "cell_type": "code",
   "execution_count": 29,
   "id": "2dad1a36",
   "metadata": {},
   "outputs": [],
   "source": [
    "main_dir='C:/Users/Anusha/ML Mini Project/'\n",
    "# source and dest dir\n",
    "source_dir=main_dir+'Final_imgs/'\n",
    "dest_dir=main_dir+'signs_resized/'"
   ]
  },
  {
   "cell_type": "code",
   "execution_count": 30,
   "id": "c20804ad",
   "metadata": {},
   "outputs": [],
   "source": [
    "sr_train_dir=os.path.join(dest_dir+'training')\n",
    "os.mkdir(sr_train_dir)\n",
    "sr_val_dir=os.path.join(dest_dir+'validation')\n",
    "os.mkdir(sr_val_dir)\n",
    "for dir1 in values:\n",
    "    path=os.path.join(sr_train_dir,dir1)\n",
    "    os.mkdir(path)\n",
    "for dir1 in values:\n",
    "    path=os.path.join(sr_val_dir,dir1)\n",
    "    os.mkdir(path)\n"
   ]
  },
  {
   "cell_type": "markdown",
   "id": "658e036f",
   "metadata": {},
   "source": [
    "Function to resize"
   ]
  },
  {
   "cell_type": "code",
   "execution_count": 31,
   "id": "27cc7094",
   "metadata": {},
   "outputs": [],
   "source": [
    "def resize_image(input_image_path, output_image_path, size):\n",
    "    img = cv2.imread(input_image_path)\n",
    "    resized_img = cv2.resize(img, size)\n",
    "    cv2.imwrite(output_image_path, resized_img)"
   ]
  },
  {
   "cell_type": "code",
   "execution_count": 33,
   "id": "ba793cea",
   "metadata": {},
   "outputs": [],
   "source": [
    "#training and validation paths for final_imgs\n",
    "fi_train_dir=os.path.join(source_dir,'training')\n",
    "fi_val_dir=os.path.join(source_dir,'validation')"
   ]
  },
  {
   "cell_type": "code",
   "execution_count": 78,
   "id": "335e295e",
   "metadata": {},
   "outputs": [],
   "source": [
    "size=(200,200)\n",
    "base=['training','validation']\n",
    "values = ['A','B','C','D','E','F','G','H','I','J','K','L','M','N','O','P','Q','R','S','T','U','V','W','X','Y','Z']\n",
    "for b in base:\n",
    "    folder_path1_fi=os.path.join(source_dir,b)\n",
    "    folder_path1_sr=os.path.join(dest_dir,b)\n",
    "    for v in values:\n",
    "        folder_path2_fi=folder_path1_fi+'/'+v\n",
    "        folder_path2_sr=folder_path1_sr+'/'+v\n",
    "        for i in range(len(os.listdir(folder_path2_fi))):\n",
    "#             input_image_path=os.path.join(folder_path2_fi,os.listdir(folder_path2)[i])\n",
    "            input_image_path=folder_path2_fi+'/'+ os.listdir(folder_path2_fi)[i]\n",
    "            output_image_path=folder_path2_sr+'/'+ os.listdir(folder_path2_fi)[i]\n",
    "            resize_image(input_image_path,output_image_path,size)\n",
    "        "
   ]
  },
  {
   "cell_type": "code",
   "execution_count": null,
   "id": "7c41805a",
   "metadata": {},
   "outputs": [],
   "source": []
  }
 ],
 "metadata": {
  "kernelspec": {
   "display_name": "Python 3 (ipykernel)",
   "language": "python",
   "name": "python3"
  },
  "language_info": {
   "codemirror_mode": {
    "name": "ipython",
    "version": 3
   },
   "file_extension": ".py",
   "mimetype": "text/x-python",
   "name": "python",
   "nbconvert_exporter": "python",
   "pygments_lexer": "ipython3",
   "version": "3.9.7"
  }
 },
 "nbformat": 4,
 "nbformat_minor": 5
}
