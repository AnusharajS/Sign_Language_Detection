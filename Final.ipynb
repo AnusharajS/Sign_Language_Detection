{
 "cells": [
  {
   "cell_type": "code",
   "execution_count": 3,
   "metadata": {},
   "outputs": [],
   "source": [
    "import tensorflow as tf\n",
    "import cv2"
   ]
  },
  {
   "cell_type": "code",
   "execution_count": 4,
   "metadata": {},
   "outputs": [
    {
     "name": "stdout",
     "output_type": "stream",
     "text": [
      "Model: \"sequential\"\n",
      "_________________________________________________________________\n",
      " Layer (type)                Output Shape              Param #   \n",
      "=================================================================\n",
      " conv2d (Conv2D)             (None, 186, 186, 16)      10816     \n",
      "                                                                 \n",
      " max_pooling2d (MaxPooling2D  (None, 93, 93, 16)       0         \n",
      " )                                                               \n",
      "                                                                 \n",
      " conv2d_1 (Conv2D)           (None, 79, 79, 32)        115232    \n",
      "                                                                 \n",
      " max_pooling2d_1 (MaxPooling  (None, 39, 39, 32)       0         \n",
      " 2D)                                                             \n",
      "                                                                 \n",
      " conv2d_2 (Conv2D)           (None, 25, 25, 64)        460864    \n",
      "                                                                 \n",
      " max_pooling2d_2 (MaxPooling  (None, 12, 12, 64)       0         \n",
      " 2D)                                                             \n",
      "                                                                 \n",
      " flatten (Flatten)           (None, 9216)              0         \n",
      "                                                                 \n",
      " dense (Dense)               (None, 128)               1179776   \n",
      "                                                                 \n",
      " dense_1 (Dense)             (None, 26)                3354      \n",
      "                                                                 \n",
      "=================================================================\n",
      "Total params: 1,770,042\n",
      "Trainable params: 1,770,042\n",
      "Non-trainable params: 0\n",
      "_________________________________________________________________\n"
     ]
    }
   ],
   "source": [
    "model = tf.keras.models.load_model('adam_50_15.h5')\n",
    "model.summary()"
   ]
  },
  {
   "cell_type": "code",
   "execution_count": 5,
   "metadata": {},
   "outputs": [],
   "source": [
    "face_haar_cascade = cv2.CascadeClassifier('haarcascade_frontalface_default.xml')"
   ]
  },
  {
   "cell_type": "code",
   "execution_count": 8,
   "metadata": {},
   "outputs": [
    {
     "ename": "KeyboardInterrupt",
     "evalue": "",
     "output_type": "error",
     "traceback": [
      "\u001b[1;31m---------------------------------------------------------------------------\u001b[0m",
      "\u001b[1;31mKeyboardInterrupt\u001b[0m                         Traceback (most recent call last)",
      "Cell \u001b[1;32mIn[8], line 3\u001b[0m\n\u001b[0;32m      1\u001b[0m capture\u001b[39m=\u001b[39mcv2\u001b[39m.\u001b[39mVideoCapture(\u001b[39m0\u001b[39m)\n\u001b[0;32m      2\u001b[0m \u001b[39mwhile\u001b[39;00m capture\u001b[39m.\u001b[39misOpened():\n\u001b[1;32m----> 3\u001b[0m     bool_result,frame_feed\u001b[39m=\u001b[39mcapture\u001b[39m.\u001b[39;49mread()\n\u001b[0;32m      4\u001b[0m height, width , channel \u001b[39m=\u001b[39m frame_feed\u001b[39m.\u001b[39mshape\n\u001b[0;32m      5\u001b[0m gray_image\u001b[39m=\u001b[39m cv2\u001b[39m.\u001b[39mcvtColor(frame_feed, cv2\u001b[39m.\u001b[39mCOLOR_BGR2GRAY)\n",
      "\u001b[1;31mKeyboardInterrupt\u001b[0m: "
     ]
    }
   ],
   "source": [
    "capture=cv2.VideoCapture(0)\n",
    "while capture.isOpened():\n",
    "    bool_result,frame_feed=capture.read()\n",
    "height, width , channel = frame_feed.shape\n",
    "gray_image= cv2.cvtColor(frame_feed, cv2.COLOR_BGR2GRAY)\n",
    "faces_detected = face_haar_cascade.detectMultiScale(gray_image )\n",
    "\n"
   ]
  }
 ],
 "metadata": {
  "kernelspec": {
   "display_name": "tfdml_plugin",
   "language": "python",
   "name": "python3"
  },
  "language_info": {
   "codemirror_mode": {
    "name": "ipython",
    "version": 3
   },
   "file_extension": ".py",
   "mimetype": "text/x-python",
   "name": "python",
   "nbconvert_exporter": "python",
   "pygments_lexer": "ipython3",
   "version": "3.9.16"
  },
  "orig_nbformat": 4
 },
 "nbformat": 4,
 "nbformat_minor": 2
}
