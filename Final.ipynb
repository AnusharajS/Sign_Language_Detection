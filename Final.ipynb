{
 "cells": [
  {
   "cell_type": "code",
   "execution_count": 6,
   "metadata": {},
   "outputs": [],
   "source": [
    "import tensorflow as tf\n",
    "import cv2"
   ]
  },
  {
   "cell_type": "code",
   "execution_count": 7,
   "metadata": {},
   "outputs": [
    {
     "name": "stdout",
     "output_type": "stream",
     "text": [
      "Model: \"sequential\"\n",
      "_________________________________________________________________\n",
      " Layer (type)                Output Shape              Param #   \n",
      "=================================================================\n",
      " conv2d (Conv2D)             (None, 186, 186, 16)      10816     \n",
      "                                                                 \n",
      " max_pooling2d (MaxPooling2D  (None, 93, 93, 16)       0         \n",
      " )                                                               \n",
      "                                                                 \n",
      " conv2d_1 (Conv2D)           (None, 79, 79, 32)        115232    \n",
      "                                                                 \n",
      " max_pooling2d_1 (MaxPooling  (None, 39, 39, 32)       0         \n",
      " 2D)                                                             \n",
      "                                                                 \n",
      " conv2d_2 (Conv2D)           (None, 25, 25, 64)        460864    \n",
      "                                                                 \n",
      " max_pooling2d_2 (MaxPooling  (None, 12, 12, 64)       0         \n",
      " 2D)                                                             \n",
      "                                                                 \n",
      " flatten (Flatten)           (None, 9216)              0         \n",
      "                                                                 \n",
      " dense (Dense)               (None, 128)               1179776   \n",
      "                                                                 \n",
      " dense_1 (Dense)             (None, 26)                3354      \n",
      "                                                                 \n",
      "=================================================================\n",
      "Total params: 1,770,042\n",
      "Trainable params: 1,770,042\n",
      "Non-trainable params: 0\n",
      "_________________________________________________________________\n"
     ]
    }
   ],
   "source": [
    "model = tf.keras.models.load_model('adam_50_15.h5')\n",
    "model.summary()"
   ]
  },
  {
   "cell_type": "code",
   "execution_count": 8,
   "metadata": {},
   "outputs": [],
   "source": [
    "face_haar_cascade = cv2.CascadeClassifier('haarcascade_frontalface_default.xml')"
   ]
  },
  {
   "cell_type": "code",
   "execution_count": 9,
   "metadata": {},
   "outputs": [],
   "source": [
    "capture=cv2.VideoCapture(0)\n",
    "while capture.isOpened():\n",
    "    bool_result,frame_feed=capture.read()\n",
    "    if bool_result==True :\n",
    "        cv2.imshow('Frame',frame_feed)\n",
    "        gray= cv2.cvtColor(frame_feed, cv2.COLOR_BGR2GRAY)\n",
    "        faces = face_haar_cascade.detectMultiScale(gray,1.1, 4 )\n",
    "        for (x,y, w, h) in faces:\n",
    "            cv2.rectangle(frame_feed, pt1 = (x,y),pt2 = (x+w, y+h), color = (255,0,0),thickness =  3)\n",
    "            roi_gray = gray[y:y+h,x:x+w]\n",
    "            roi_color = frame_feed[y:y+h, x:x+w]\n",
    "    \n",
    "        if cv2.waitKey(25) &0xFF == ord('q'):\n",
    "            break\n",
    "    else :\n",
    "        break\n",
    "capture.release()\n",
    "cv2.destroyAllWindows()\n",
    "\n",
    "\n"
   ]
  },
  {
   "cell_type": "code",
   "execution_count": 4,
   "metadata": {},
   "outputs": [
    {
     "name": "stdout",
     "output_type": "stream",
     "text": [
      "1/1 [==============================] - 0s 88ms/step\n",
      "[[0.000000e+00 0.000000e+00 0.000000e+00 0.000000e+00 1.483209e-31\n",
      "  0.000000e+00 0.000000e+00 0.000000e+00 0.000000e+00 0.000000e+00\n",
      "  0.000000e+00 0.000000e+00 0.000000e+00 0.000000e+00 0.000000e+00\n",
      "  0.000000e+00 0.000000e+00 0.000000e+00 0.000000e+00 9.628541e-34\n",
      "  0.000000e+00 0.000000e+00 0.000000e+00 0.000000e+00 1.000000e+00\n",
      "  0.000000e+00]]\n"
     ]
    }
   ],
   "source": [
    "# Load the pre-trained model\n",
    "from keras.models import load_model\n",
    "model = load_model('adam_50_15.h5')\n",
    "\n",
    "# Prepare the test data\n",
    "import cv2\n",
    "import numpy as np\n",
    "\n",
    "test_image = cv2.imread('O_11.jpg')\n",
    "test_image = cv2.resize(test_image, (200, 200))\n",
    "test_image = np.expand_dims(test_image, axis=0)\n",
    "\n",
    "# Make predictions\n",
    "predictions = model.predict(test_image)\n",
    "\n",
    "# Get the predicted class label\n",
    "class_label = np.argmax(predictions, axis=1)\n",
    "\n",
    "# Print the predicted class label\n",
    "\n",
    "\n"
   ]
  }
 ],
 "metadata": {
  "kernelspec": {
   "display_name": "tfdml_plugin",
   "language": "python",
   "name": "python3"
  },
  "language_info": {
   "codemirror_mode": {
    "name": "ipython",
    "version": 3
   },
   "file_extension": ".py",
   "mimetype": "text/x-python",
   "name": "python",
   "nbconvert_exporter": "python",
   "pygments_lexer": "ipython3",
   "version": "3.9.16"
  },
  "orig_nbformat": 4
 },
 "nbformat": 4,
 "nbformat_minor": 2
}
